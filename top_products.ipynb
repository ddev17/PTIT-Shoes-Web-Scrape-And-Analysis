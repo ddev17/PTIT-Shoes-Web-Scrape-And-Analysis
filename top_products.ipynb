{
 "cells": [
  {
   "cell_type": "code",
   "execution_count": 1,
   "metadata": {},
   "outputs": [],
   "source": [
    "import os\n",
    "import json\n",
    "import numpy as np"
   ]
  },
  {
   "cell_type": "code",
   "execution_count": 2,
   "metadata": {},
   "outputs": [],
   "source": [
    "distinct_gender = ['U', 'W', 'M']\n",
    "distinct_colors = [\n",
    "    'red', 'blue', 'green', 'yellow', 'black', 'white', 'purple',\n",
    "    'pink', 'gray', 'orange', 'brown', 'beige', 'gold', 'silver',\n",
    "    'teal', 'cyan', 'navy', 'cream', 'mauve', 'violet', 'olive',\n",
    "    'aqua', 'burgundy', 'lavender', 'caramel', 'mint', 'khaki',\n",
    "    'copper', 'indigo', 'xanh dương', 'đỏ', 'vàng', 'trắng', \n",
    "    'đen', 'nâu', 'hồng', 'tím', 'xám', 'cam', 'xanh', 'cam', 'do', 'vang', \n",
    "    'trang', 'den', 'tim', 'xanh la', 'xanh duong', 'xam', 'hong'\n",
    "]\n",
    "\n",
    "\n",
    "distinct_materials = [\n",
    "    'Vải dệt', 'Lưới tổng hợp', 'Da tổng hợp', 'Moleskin n Cotton', 'EVA', \n",
    "    'Nylon', 'Lông nhân tạo', 'Cao su', 'Vải', \n",
    "    'Synthetic', 'Da', 'PVC', 'Sợi gai dầu', 'Organic Cotton', \n",
    "    'Canvas', 'Suede', 'Textile', 'Da lộn', \n",
    "    'Vải Knit', 'Microfiber', 'Nubuck', 'Recycled Cotton', 'TPU', 'Polyester', \n",
    "    'Vải lưới', 'Tổng hợp',\n",
    "]\n",
    "\n",
    "distinct_lining = [\n",
    "    'Vải dệt',\n",
    "    'Lưới tổng hợp',\n",
    "    'Da tổng hợp',\n",
    "    'Nubuck',\n",
    "    'Polyester',\n",
    "    'Vải',\n",
    "    'EVA',\n",
    "    'Lông nhân tạo',\n",
    "    'Cao su',\n",
    "    'Recycled Polyester',\n",
    "    'Microfiber',\n",
    "    'Canvas',\n",
    "    'TPU',\n",
    "    'OrthoLite',\n",
    "    'Nhựa Croslite',\n",
    "    'Xốp mềm',\n",
    "    'Sợi gai dầu',\n",
    "    'Cotton',\n",
    "    'Da',\n",
    "    'Da lộn',\n",
    "    'Tổng hợp',\n",
    "    'PET',\n",
    "    'Polyethylene'\n",
    "]"
   ]
  },
  {
   "cell_type": "code",
   "execution_count": 3,
   "metadata": {},
   "outputs": [],
   "source": [
    "def one_hot_encode(value_string, distinct_values):\n",
    "    if value_string is None:\n",
    "        return [0] * len(distinct_values)\n",
    "    # Create a dictionary for easy indexing\n",
    "    value_to_index = {value: idx for idx, value in enumerate(distinct_values)}\n",
    "    \n",
    "    # Initialize a one-hot vector with zeros\n",
    "    one_hot_vector = [0] * len(distinct_values)\n",
    "    \n",
    "    # Split the string by '/' to get individual values\n",
    "    values = value_string.split('/')\n",
    "    \n",
    "    # Set the corresponding indices to 1 for the values in the string\n",
    "    for value in values:\n",
    "        if value in value_to_index:\n",
    "            one_hot_vector[value_to_index[value]] = 1\n",
    "    \n",
    "    return one_hot_vector"
   ]
  },
  {
   "cell_type": "code",
   "execution_count": 4,
   "metadata": {},
   "outputs": [],
   "source": [
    "val = \"red/blue/yellow\""
   ]
  },
  {
   "cell_type": "code",
   "execution_count": 5,
   "metadata": {},
   "outputs": [],
   "source": [
    "ret = one_hot_encode(val, distinct_colors)"
   ]
  },
  {
   "cell_type": "code",
   "execution_count": 6,
   "metadata": {},
   "outputs": [
    {
     "name": "stdout",
     "output_type": "stream",
     "text": [
      "[1, 1, 0, 1, 0, 0, 0, 0, 0, 0, 0, 0, 0, 0, 0, 0, 0, 0, 0, 0, 0, 0, 0, 0, 0, 0, 0, 0, 0, 0, 0, 0, 0, 0, 0, 0, 0, 0, 0, 0, 0, 0, 0, 0, 0, 0, 0, 0, 0, 0]\n"
     ]
    }
   ],
   "source": [
    "print(ret)"
   ]
  },
  {
   "cell_type": "code",
   "execution_count": 7,
   "metadata": {},
   "outputs": [
    {
     "name": "stdout",
     "output_type": "stream",
     "text": [
      "679\n"
     ]
    }
   ],
   "source": [
    "with open('processed_shoes_data.json', 'r', encoding='utf-8') as file:\n",
    "    data_list = json.load(file)  # data_list is a list of objects\n",
    "\n",
    "cnt = 0\n",
    "\n",
    "for data in data_list:\n",
    "    if data['min_size(vn_size)'] is None:\n",
    "        cnt += 1\n",
    "\n",
    "print(cnt)"
   ]
  },
  {
   "cell_type": "code",
   "execution_count": 8,
   "metadata": {},
   "outputs": [],
   "source": [
    "test_obj ={\n",
    "    \"price\": 2700000,\n",
    "    \"gender\": \"U\",\n",
    "    \"color\": \"blue\",\n",
    "    \"material\": \"Cao su\",\n",
    "    \"size\": 45,\n",
    "    \"lining\": \"Vải dệt/Vải\"\n",
    "}"
   ]
  },
  {
   "cell_type": "code",
   "execution_count": 9,
   "metadata": {},
   "outputs": [],
   "source": [
    "def square(x):\n",
    "    return x * x"
   ]
  },
  {
   "cell_type": "code",
   "execution_count": 10,
   "metadata": {},
   "outputs": [],
   "source": [
    "def cosine_distance(vector1, vector2):\n",
    "    if len(vector1) != len(vector2):\n",
    "        raise ValueError(\"Vectors must be of the same length.\")\n",
    "    \n",
    "    vector1 = np.array(vector1)\n",
    "    vector2 = np.array(vector2)\n",
    "    \n",
    "    dot_product = np.dot(vector1, vector2)\n",
    "    magnitude1 = np.linalg.norm(vector1)\n",
    "    magnitude2 = np.linalg.norm(vector2)\n",
    "    \n",
    "    cosine_similarity = dot_product / (magnitude1 * magnitude2)\n",
    "    \n",
    "    return 1 - cosine_similarity"
   ]
  },
  {
   "cell_type": "code",
   "execution_count": null,
   "metadata": {},
   "outputs": [],
   "source": [
    "distances = []\n",
    "for data in data_list:\n",
    "    distance = 0\n",
    "    distance += square(test_obj['price'] - data['price'])\n",
    "    distance += square(test_obj['size'] - data['min_size(vn_size)'])\n",
    "    distance += square(test_obj['size'] - data['max_size(vn_size)'])\n",
    "    distance += cosine_distance(one_hot_encode(test_obj['material'], distinct_materials), one_hot_encode(data['material'], distinct_materials))\n",
    "    distance += cosine_distance(one_hot_encode(test_obj['gender'], distinct_gender), one_hot_encode(data['gender'], distinct_gender))\n",
    "    distance += cosine_distance(one_hot_encode(test_obj['lining'], distinct_lining), one_hot_encode(data['lining'], distinct_lining))\n",
    "    distance += cosine_distance(one_hot_encode(test_obj['color'], distinct_materials), one_hot_encode(data['color'], distinct_materials))\n",
    "\n",
    "    distances.append(distance)\n",
    "\n",
    "k = 3\n",
    "# top_k_shoes = np.argsort(distances)[:k]\n",
    "top_k_shoes = [x for _, x in sorted(zip(distance, data_list))]"
   ]
  }
 ],
 "metadata": {
  "kernelspec": {
   "display_name": "Python 3",
   "language": "python",
   "name": "python3"
  },
  "language_info": {
   "codemirror_mode": {
    "name": "ipython",
    "version": 3
   },
   "file_extension": ".py",
   "mimetype": "text/x-python",
   "name": "python",
   "nbconvert_exporter": "python",
   "pygments_lexer": "ipython3",
   "version": "3.12.0"
  }
 },
 "nbformat": 4,
 "nbformat_minor": 2
}
