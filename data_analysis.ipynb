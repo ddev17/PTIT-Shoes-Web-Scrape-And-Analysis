{
 "cells": [
  {
   "cell_type": "code",
   "execution_count": 24,
   "metadata": {},
   "outputs": [],
   "source": [
    "import json\n",
    "import re"
   ]
  },
  {
   "cell_type": "code",
   "execution_count": 25,
   "metadata": {},
   "outputs": [],
   "source": [
    "# Gender mapping rules\n",
    "gender_mapping = {\n",
    "    'Unisex': 'U',\n",
    "    'M': 'M',\n",
    "    'Men': 'M',\n",
    "    'W': 'W',\n",
    "    'Woman': 'W',\n",
    "    'Women': 'W',\n",
    "    'Nữ': 'W',\n",
    "    'Nữ': 'W',\n",
    "    'Nam': 'M',\n",
    "    'Nam/Nữ': 'U',\n",
    "    'Kid': 'U',\n",
    "    'U': 'U',\n",
    "    None: 'U'\n",
    "}"
   ]
  },
  {
   "cell_type": "markdown",
   "metadata": {},
   "source": [
    "# Read data"
   ]
  },
  {
   "cell_type": "code",
   "execution_count": 26,
   "metadata": {},
   "outputs": [],
   "source": [
    "# Load the merged data from 'shoes_data.json'\n",
    "with open('./data_clean/shoes_data.json', 'r', encoding='utf-8') as file:\n",
    "    data_list = json.load(file)  # data_list is a list of objects"
   ]
  },
  {
   "cell_type": "markdown",
   "metadata": {},
   "source": [
    "Check all distinct value"
   ]
  },
  {
   "cell_type": "code",
   "execution_count": 27,
   "metadata": {},
   "outputs": [],
   "source": [
    "def get_distinct_value(data):\n",
    "    distinct_values = {}\n",
    "    for data in data_list:\n",
    "        for key, value in data.items():\n",
    "            if key not in distinct_values:\n",
    "                distinct_values[key] = set()  # Initialize a set for each new key\n",
    "            distinct_values[key].add(value)  # Add value to the set (automatically handles duplicates)\n",
    "\n",
    "    # Convert sets to lists for easier output (if needed)\n",
    "    distinct_values = {key: list(values) for key, values in distinct_values.items()}\n",
    "    return distinct_values"
   ]
  },
  {
   "cell_type": "markdown",
   "metadata": {},
   "source": [
    "# Gender"
   ]
  },
  {
   "cell_type": "code",
   "execution_count": 28,
   "metadata": {},
   "outputs": [
    {
     "name": "stdout",
     "output_type": "stream",
     "text": [
      "['Nam', 'U', 'Nam/Nữ', 'Woman', 'Women', 'Nữ', None, 'Men', 'Nữ', 'Kid', 'Unisex', 'W', 'M']\n"
     ]
    }
   ],
   "source": [
    "print(get_distinct_value(data_list)['gender'])"
   ]
  },
  {
   "cell_type": "code",
   "execution_count": 29,
   "metadata": {},
   "outputs": [],
   "source": [
    "# Process each object in the list to convert gender values\n",
    "for data in data_list:\n",
    "    # Apply gender mapping\n",
    "    if 'gender' in data and data['gender'] in gender_mapping:\n",
    "        data['gender'] = gender_mapping[data['gender']]"
   ]
  },
  {
   "cell_type": "code",
   "execution_count": 30,
   "metadata": {},
   "outputs": [
    {
     "name": "stdout",
     "output_type": "stream",
     "text": [
      "['U', 'W', 'M']\n"
     ]
    }
   ],
   "source": [
    "print(get_distinct_value(data_list)['gender'])"
   ]
  },
  {
   "cell_type": "markdown",
   "metadata": {},
   "source": [
    "# Color"
   ]
  },
  {
   "cell_type": "code",
   "execution_count": 31,
   "metadata": {},
   "outputs": [
    {
     "name": "stdout",
     "output_type": "stream",
     "text": [
      "['Rằn Ri', 'Đỏ Hồng', '(Tiger Floral) black/true white', 'Xanh Họa Tiết', '(Logo Repeat) black/true white', 'Multi', 'nau', 'BLACK/WHITE/BLACK', 'Hong', 'Tím', 'Blue', 'Nhiều Màu', 'Dép Xỏ Ngón Nữ Crocs Tulum Flip', 'Dép Thể Thao Nam Under Armour Atlantic Dune T', 'Đỏ (Rish Red White)', 'BLACK/MARSHMALLOW', 'Teal Universe/Egret/Black', 'Navy/Black', 'Dép Quai Ngang Unisex Crocs Mellow Slide', 'Đen/Trắng', 'Dép Nam New Balance 100 Lifestyle', 'Giày Bóng Rổ Nam Under Armour 3Z5', 'Almond', 'Bright Brown', 'High risk red/true white', 'Green', 'Cream', 'True Navy/White', 'YELLOW', 'Multi Check/True White', 'Xanh Quân Đội', 'Speed Yellow/White/Wild Mango', 'Giày Thời Trang Nam Nike Jordan Air Nfh', 'White/Black/Gum Honey', 'WHITE', '(MoMA) Edvard Munch', 'Giày Bóng Đá Nam Nike Phantom Gx Club Tf (Dành Cho Sân Cỏ Nhân Tạo)', '(Tiger Patchwork) black/true white', 'COLOR THEORY CHECKERBOARD ROSE SMOKE', 'Kem (Marshmallow/True White)', 'Black/White/Gum', 'Blackout', 'Dép Unisex Crocs Classic Sandal', 'Vang', '(Eco Theory) eco positivity/natural', 'Be', 'Dép xỏ ngón Nữ Crocs Platform Classic', 'Dép Xỏ Ngón Nữ Skechers GOwalk 5', 'Hồng', 'Đo', 'Chocolate', '(Anaheim Factory) Hoffman Fabrics/Native Mix', 'Xanh/Vàng', 'White/White/Wild Mango', 'BLACK', 'Dép Nam Under Armour Ansa', 'Xanh Denim', 'Adilette 22', '(Anaheim Factory) og Fast Times', 'Giày Bóng Rổ Nam Under Armour Curry 4 Flotro', 'Black/Icon Violet/Cool Grey', 'Ash Stone/Black/Hyper Pink', '(Packing Tape) black/red/true white', 'Dark Brown', 'Deep Olive Green', 'Origin Story/Egret/Black', \"Dép Xỏ Ngón Nữ O'Neill Ditsy Jacquard BLOOM\", 'Họa tiết 66/White (Blanc/66 Sail)', 'Dép Quai Ngang Unisex Crocs Classic Geometric V2 Trắng', 'Beach Stone/Egret/Beach Stone', 'Parchment/Garnet/Egret', 'Maroon', 'Xanh Navy', '(Los Vans) multi/true white', 'Hồng (Dành Cho Sân Cỏ Nhân Tạo)', 'Black/Cadmium yellow', 'Thunder Grey/University Red/Egret', 'Giày Bóng Đá Trẻ Em Adidas X Crazyfast.3 Tf J (Dành Cho Sân Cỏ Nhân Tạo)', 'Black/White', 'Ocean/Cream', 'Cordura Deep Forest', 'Mau-vang', 'Olive Green', '(Anaheim Factory) Hoffman Fabrics/Floral Mix', 'Winter White', 'White', 'Cam san hô', 'Trắng Đen', 'TRADEWINDS', 'Sharp Green/True White', 'Turbo Green', 'Dép Nam Under Armour Ignite', 'Hồng tím/Đen', 'MARSHMALLOW', 'Dark Beetroot/Egret/Black', 'Hồng tím', '(National Geographic) photo ark', 'Black/White/Wild Mango', 'BLUE', 'Mesa Rose/Black/White', 'Gray/White', 'Checkerboard', 'Xanh Rêu', 'white/true white', 'Ozone Blue', 'Floral', 'Navy Grey', '(Pig Suede) Zephyr', '(Pig Suede) Vintage Indigo', '(Pig Suede) honey gold/true white', 'Xám - Đen', 'Dép Xỏ Ngón Nữ Skechers GOwalk Arch Fit', 'BLACK/WHITE', 'White/Black/White', 'Dép Nam Skechers GOwalk Mens', 'White/Multi/Black', 'Dép Thời Trang Nam Nike Air Max Cirro', 'Đen/Tím/Xanh/Xám', '(DIY) black/true white', 'Giày Bóng Rổ Trẻ Em Nike Jordan Luka 1 (Gs) Đen', 'Egret/Black/Egret', 'Black/Multi/White', 'Xanh Dương', 'Giày Bóng Rổ Nam Under Armour Lockdown 5', 'Dép Xỏ Ngón Nữ Crocs Tulum', 'HI GRADE', 'COLOR THEORY ROSE SMOKE', 'Đỏ đô', 'Eyeballed', 'Adilette Lite J', '(I Heart) black/true white', 'Mau-tim', '(Marvel) Black Widow/black', 'Checkerboard Trắng/Đen', 'Deep Forest', 'White/Pink', \"Giày Bóng Rổ Unisex Curry Flow 10 'More Magic'\", 'Grand Purple/Prime Pink/Conver', 'Red/Red/White', 'Cherry Vision/Saddle/Egret', 'DRESS BLUE', 'Black/Black/White', 'Trắng', 'Multi/true white', 'Dép Quai Ngang Nữ Skechers Foamies Cali Breeze 2.0', 'Xanh Lá', 'Dark Grey', '(Eco Theory) eco positivity/multi', 'Hoạ tiết (Trắng/Đen)', 'Yellow', 'White/Purple', 'White/Pale Putty/Nomadic Rust', 'Egret/University Red/White', '(National Geographic) ocean/true blue', '(Pop Logo) black/classic white', 'Giày Bóng Rổ Nam Nike Air Jordan Legacy 312 Low', 'Bac', 'Vàng', 'Go Luxe', 'White/Dusty Blue', 'White/Black/Gum', 'Mango Mojito/ True White', 'Đen - Trắng', 'Black/Egret/Black', 'Khaki', 'Giày Bóng Đá Unisex Adidas X Crazyfast.1 Tf (Dành Cho Sân Cỏ Nhân Tạo)', 'honey gold/purple velvet', 'Xanh Neo', 'Đỏ', '(Check) black/true white', 'Dép Xỏ Ngón Nữ Crocs Splash Glossy Slide', 'Navy /Aqua Mist /Egret', 'Đen (Black - Neon Acid)', 'Đen', '(Anaheim Factory) og skulls/og black/og white', 'Black Voltage Print', 'Xám - Đen Checkerboard', '(Anaheim Factory) OG black/OG Spider Web', 'Dép Quai Ngang Unisex Crocs Mellow Marbled Slide', 'Giày Đá Bóng Unisex Adidas Predator Accuracy.1 Tf Xanh Dương (Dành Cho Sân Cỏ Nhân Tạo)', 'Optical White', \"Dép Xỏ Ngón Nam O'Neill Multi Culti Pack\", 'Full Black', '(DIY) lemon chrome/true white', '(National Geographic) multi covers/true', 'Nikko/Black/True White', 'Dép Nam Under Armour Ignite Pro', 'Black/White/Black', 'mau-xanh-la', 'Go Go Consistent', 'OBSIDIAN', 'Xanh', 'CEMENT HEATHER-BLACK', 'Black/White/White', 'Trắng - Đen Checkerboard', 'Grand Purple', 'Cadmium yellow/True White', \"Dép Xỏ Ngón Nữ O'Neill Mix And Match Pack\", 'Canyon Dusk/Egret/Rhubarb Pie', 'Xam', 'Black/Black', 'Beige Angora', 'Carô Đen Trắng', 'Go', 'Hoạ tiết', 'Giày Đá Bóng Nam Adidas Predator Accuracy.4 Tf (Dành Cho Sân Cỏ Nhân Tạo)', 'Vàng (Caution-White)', 'Đen (Black-White)', 'trang', '(Flash Skulls) black/true white', 'GREY', '(Disruptive) Black/True White', 'Purple Pastel', 'Camo', 'Giày Bóng Rổ Unisex Under Armour Curry 10 Bang Bang', 'Cream\\nBlack', '(National Geographic) logo', 'Dark Navy', 'Team Navy', 'Giày Bóng Đá Trẻ Em Adidas Predator Accuracy.3 Fg J (Dành Cho Sân Cỏ Tự Nhiên)', 'BLACK-FUCHSIA PINK', 'Black/Amazon', 'Dép Quai Ngang Nữ Skechers Pop Ups 2.0', 'Cam (Dành Cho Sân Cỏ Tự Nhiên)', 'Mirage Blue/White', 'Dép Quai Ngang Nam Fitflop Iqushion Arrow Knit', 'Dép Nam Skechers', 'Marshmallow / Jolly Green', 'Vintage White/Egret/Black', 'Natural White', 'Dép Quai Ngang Unisex Fila Drifter Bric', 'Dép Thời Trang Nữ Nike Offcourt Duo Slide', 'Giày Bóng Rổ Nam Nike Lebron Witnevii Ep', 'Dép Nam New Balance 200 Classic Lifestyle', 'Cam', '(Checker Cube) multi/true white', 'Giày Bóng Rổ Nam Nike Lebron Xx Ep', 'Pasture Green/Grey', '(National Geographic) then/now glacier', 'Dép Unisex Under Armour Rock Sl', 'Nomad Khaki/Black/Egret', 'Mason/Black/White', 'Gray/Dark Blue', 'Giày Bóng Rổ Trẻ Em Under Armour GS Curry 10 NL', 'Dress Blues/Quetzal', 'White/University Red/Black', \"Dép Xỏ Ngón Nam O'Neill Profile Logo Sandals\", 'Hoạ tiết', 'Black/Vintage White/Egret', 'Midnight Turq', 'Obsidian/ Ozone Blue/ Egret', '(MoMA) Multi', 'Dép Xỏ Ngón Nữ Crocs Splash Glossy Flip', 'Họa tiết Camo', 'Cam San Hô', 'GREEN', 'Rapid Teal/Black/White', 'Matcha', 'Xám/Đỏ', 'Sunflower/Black/Egret', 'Checkerboard White/Black', 'Dép Quai Ngang Nữ Skechers Arch Fit Ascend', 'Red', '(Iridescent Check) black/true white', 'Giày Bóng Rổ Nam Nike Air Jordan Blueprint Zoo Pf', 'Nâu', 'Mau-xanh-da-troi', 'Ski Patrol', 'Olive Night', 'Dép Quai Ngang Nữ Skechers Bobs', 'Giày Bóng Rổ Nam Under Armour Curry Splash', 'Black/Egret/White', 'Nhieu-mau', 'White/University Red/Peony Pink', 'PINK', 'Black/Navy/Lt. Blue', 'Dép Quai Ngang Nữ Skechers Pop Ups 2 Hi', 'Dép Xỏ Ngón Nữ Skechers Arch Fit', 'KHAKI', 'Erget', 'Zebra', 'Mesa Rose', 'White/Blue', 'true white/true white', 'Giày Bóng Rổ Nam Nike Precision Vi', 'Dép Nữ Under Armour Atlantic Dune T', 'Cordura Kalamata', 'Yellow/Black', 'Black Alley Brick', '(MoMA) Vasily Kandinsky', 'Ngoc-lam', 'Giày Leo Núi Nam Columbia NEWTON RIDGE™ PLUS II WATERPROOF', 'Dép Quai Ngang Nam Fitflop Iqushion Arrow Pool', 'Xanh Olive', 'Pastel Blue', 'Pasture Green/Sand', '(Anaheim Factory) OG Black/OG Spider Web', 'Dép Quai Ngang Nữ Crocs Skyline Slide', '(Alien Ghosts) Black/True White', 'Giày Bóng Đá Nam Nike Mercurial Vapor 13 Academy Fg/Mg (Dành Cho Sân Cỏ Tự Nhiên)', 'black/true white', 'University Red/Black/White', '(Flash Skulls) multi/true white', 'Giày Bóng Rổ Nam Nike Kd Trey 5 X Ep', 'Trắng', 'Dép Quai Ngang Nữ Crocs Skyline', 'Day', 'CHECKERBOARD BLACK/MARSHMALLOW', 'Xám', '(Vans Emboss) black/true white', 'Imperial Blue/ Olive Flak/ Surp', 'Parisian Night', 'Xanh biển', 'Xám', 'Black/True White', 'Gray Dawn', 'Racing Red/True White', 'Giày Bóng Rổ Nam Under Armour Curry 9 Street', 'Black/Light Blue', 'Dép Quai Ngang Unisex Fila Drifter Rainbow', 'Go 600', 'Preferred', 'Marshmallow/Black', 'Black', 'Eco Theory Checkerboard', 'Egret/Black/White', '(Packing Tape) blanc de blanc/true white', 'Egret/Amarillo/Black', 'DARK DITSY', 'OCHRE-MARSHMALLOW', 'Star White', 'Silver', 'Grey', 'Cordura Black', \"Dép Xỏ Ngón Nữ O'Neill Profile Logo Sandals\", '( Ouroboros) Black/True White', 'LEMON TONIC CHECKERBOARD', 'tie dye/orange', 'Black/White/Wolf Grey', 'Cobblestone', 'Dép Unisex Crocs Cozzzy Classic', 'Engine Smoke/Black/Magic Flame', 'Grey/White', 'RED', 'Xanh Mint', None, 'Giày Đá Bóng Unisex Adidas X Speedflow.4 Turf (Dành Cho Sân Cỏ Nhân Tạo)', 'Light Gray', '(Vintage Pop) Marshmallow/Turtledove', 'Vàng Chanh', 'Giày Bóng Rổ Nam Nike Cosmic Unity 2', '(Shit Happens) multi/true white', 'Obsidian', 'Voltage Grey Heather', 'White/Black/Sail Blue', 'White Monochrome', 'Giày Bóng Rổ Nam Under Armour Curry Flow 9', 'Red/Blue', 'Chili Pepper', 'White/Viva Magenta', 'Checkerboard Đỏ/Trắng', 'Giày Bóng Rổ Trẻ EmNike Air Jordan Blueprint (Gs)', 'trai-cam', 'Brown', '(Check) Classic white/true white', 'Dép Xỏ Ngón Nữ Skechers Nextwave Ultra', 'Obsidian/Sail Blue/Wild Mango', 'Đen/Cam', 'Trắng sọc xanh', 'Fit Wc Tf (Dành Cho Sân Cỏ Nhân Tạo)', 'Goshted /Vintage White/Egret', 'ENAMEL RED', 'Trắng/Neon', 'Đen/Trắng', '(Shit Happens) cadmium yellow/true white', 'Giày Bóng Đá Trẻ Em Nike Jr Legend 9 Academy Tf (Dành Cho Sân Cỏ Nhân Tạo)', 'Field Surplus/Black/Vivid Sulfur', 'Đen/Đen/Trắng', 'Black/White/Gum Honey', 'Cool Blue', 'Cerulean/Blue Quatz', 'Dép Quai Ngang Unisex Crocs Crocband', 'Navy', 'Charcoal', 'Trắng ngà', 'Giày Bóng Rổ Nam Under Armour 3Z5 Curry', 'Dép Xỏ Ngón Nữ Crocs Splash Flip', 'Dragon Scale', 'Giày Bóng Rổ Nam Nike Giannis Immortality 2', 'Giày Bóng Đá Trẻ Em Adidas X Crazyfast.3 Fg J (Dành Cho Sân Cỏ Tự Nhiên)', 'Trắng Đen Checkerboard', 'Dép quai ngang Unisex Crocs Classic Meta Scape', 'Dép Unisex Under Armour Rock 3', 'Đỏ/Trắng']\n",
      "394\n"
     ]
    }
   ],
   "source": [
    "print(get_distinct_value(data_list)['color'])\n",
    "print(len(get_distinct_value(data_list)['color']))"
   ]
  },
  {
   "cell_type": "code",
   "execution_count": 32,
   "metadata": {},
   "outputs": [],
   "source": [
    "# Define the list of distinct colors\n",
    "distinct_colors = [\n",
    "    'red', 'blue', 'green', 'yellow', 'black', 'white', 'purple',\n",
    "    'pink', 'gray', 'orange', 'brown', 'beige', 'gold', 'silver',\n",
    "    'teal', 'cyan', 'navy', 'cream', 'mauve', 'violet', 'olive',\n",
    "    'aqua', 'burgundy', 'lavender', 'caramel', 'mint', 'khaki',\n",
    "    'copper', 'indigo', 'xanh dương', 'đỏ', 'vàng', 'trắng', \n",
    "    'đen', 'nâu', 'hồng', 'tím', 'xám', 'cam', 'xanh', 'cam', 'do', 'vang', \n",
    "    'trang', 'den', 'tim', 'xanh la', 'xanh duong', 'xam', 'hong'\n",
    "]"
   ]
  },
  {
   "cell_type": "code",
   "execution_count": 33,
   "metadata": {},
   "outputs": [],
   "source": [
    "pattern = re.compile(r'\\b(' + '|'.join(distinct_colors) + r')\\b', re.IGNORECASE)"
   ]
  },
  {
   "cell_type": "code",
   "execution_count": 34,
   "metadata": {},
   "outputs": [],
   "source": [
    "# Process each object in the data\n",
    "for item in data_list:\n",
    "    if item.get('color') is None:\n",
    "        continue\n",
    "    # Get the color attribute\n",
    "    color_attr = item.get('color', '').strip()\n",
    "\n",
    "    # Find all matching colors\n",
    "    matches = pattern.findall(color_attr)\n",
    "    \n",
    "    if matches:\n",
    "        # Convert matches to lower case and join with '/'\n",
    "        item['color'] = '/'.join(sorted(set(color.lower() for color in matches)))\n",
    "    else:\n",
    "        item['color'] = None"
   ]
  },
  {
   "cell_type": "code",
   "execution_count": 35,
   "metadata": {},
   "outputs": [
    {
     "name": "stdout",
     "output_type": "stream",
     "text": [
      "['khaki', 'red/white/đỏ', 'black/blue/navy', 'green/white', 'black/pink', 'gray/white', 'trắng', 'yellow', 'xám/đỏ', 'trang', 'red', 'blue/gray', 'blue/olive', 'pink/purple', 'black/violet', 'white', 'purple', 'black/blue', 'pink/white', 'orange', 'black', 'tim', 'pink/red/white', 'hồng/đỏ', 'gray', 'green', 'xám', 'cam', 'xanh dương', 'black/khaki', 'vàng', 'purple/white', 'black/blue/white', None, 'vang', 'black/navy', 'hồng', 'xanh', 'xam', 'olive/xanh', 'green/olive', 'black/yellow', 'hồng/tím/đen', 'black/teal', 'black/red/white', 'navy/white', 'black/đen', 'white/yellow', 'tím', 'vàng/white', 'hồng/tím', 'black/white/đen', 'trắng/đen', 'red/white', 'vàng/xanh', 'olive', 'tím/xanh/xám/đen', 'black/white', 'blue/white', 'đỏ', 'xám/đen', 'brown', 'đen', 'indigo', 'black/teal/white', 'silver', 'gold/purple', 'mint/xanh', 'aqua/navy', 'gold/white', 'blue', 'navy', 'beige', 'trắng/đỏ', 'navy/xanh', 'trắng/xanh', 'black/cream', 'pink', 'blue/red', 'cream', 'hong', 'cam/đen', 'nâu']\n",
      "83\n"
     ]
    }
   ],
   "source": [
    "print(get_distinct_value(data_list)['color'])\n",
    "print(len(get_distinct_value(data_list)['color']))"
   ]
  },
  {
   "cell_type": "code",
   "execution_count": 36,
   "metadata": {},
   "outputs": [
    {
     "name": "stdout",
     "output_type": "stream",
     "text": [
      "3140\n"
     ]
    }
   ],
   "source": [
    "print(len(data_list))"
   ]
  },
  {
   "cell_type": "code",
   "execution_count": 37,
   "metadata": {},
   "outputs": [
    {
     "name": "stdout",
     "output_type": "stream",
     "text": [
      "2701\n"
     ]
    }
   ],
   "source": [
    "# Count the number of objects with a non-None color attribute\n",
    "valid_colors_count = len([obj for obj in data_list if obj.get('color') is not None])\n",
    "\n",
    "# Print the count\n",
    "print(valid_colors_count)"
   ]
  },
  {
   "cell_type": "markdown",
   "metadata": {},
   "source": [
    "# Material"
   ]
  },
  {
   "cell_type": "code",
   "execution_count": 38,
   "metadata": {},
   "outputs": [
    {
     "name": "stdout",
     "output_type": "stream",
     "text": [
      "['100% Recycled Polyester', 'Da Synthetic', '', 'Canvas, Cao su', 'Vải - Da', 'Xốp mềm', '8% Leather, 92% Textile', 'Vải Canvas/Da Lộn', '47.84% Da, 52.16% Vải', '54% Leather; 46% Textile', 'Tổng hợp', 'Vải dệt, Cao su', 'High Quality Eva', 'Polyester, Lưới tổng hợp', 'Vải/Da Lộn', '50% Recycled Cotton, 50% Hemp upper', 'Da/Nylon', 'Leather', 'Da tổng hợp, Tổng hợp, Vải dệt', 'Lưới tổng hợp, Da lộn', 'Canvas', 'Vải Canvas', '100% EVA', 'Da tổng hợp, Da lộn, Lưới tổng hợp', 'Lưới tổng hợp, Vải dệt', 'Da tổng hợp', 'Vải dệt, Lưới tổng hợp', 'Leather 56,2%, Textile 43,8%', 'Cao su', 'Textile Upper', 'EVA + PU', 'Da tổng hợp, Vải dệt, Tổng hợp', 'Polyethylene', 'Da lộn, Lưới tổng hợp, Vải dệt', 'Tổng hợp, Da lộn', 'Suede/Textile', '100% Suede', 'Leather 30.5%, Textile 69.5%', 'Da', 'Da tổng hợp, Cao su', '100% Da', 'PVC', 'Nhựa Croslite', 'Da tổng hợp, Vải dệt', 'Da lộn, Vải dệt', 'Organic Cotton', 'Synthetic', '56.2% Suede, 43.8% Textile', None, '49.09% Leather, 50.91% Textile', '95% Polyester, 3% PU', 'Lông nhân tạo', 'Polyester', 'Lưới tổng hợp, Tổng hợp', 'Textile/Leather', 'Vải dệt Knit', '95% Cotton, 5% Spandex', 'Da Nhung', 'Vải - Da lộn', '42.44% Da, 57.56 % Vải', 'Tổng hợp, Cao su', 'PET, Canvas', '45.1% Leather; 54.9% Textile', 'Da lộn', 'Lưới tổng hợp, Vải', 'Da tổng hợp, Da lộn', 'Da lộn/Vải', '40.97% Leather; 59.03% Textile', 'Da lộn, Lưới tổng hợp, Tổng hợp', 'Nubuck, Polyester', '100% Vải', 'Moleskin n Cotton, Polyester', 'Leather/Textile', 'Vải/Da lộn', 'IP Injection', '100% Polyester', '55% Leather; 45% Textile', 'Polyester, Tổng hợp', 'Tổng hợp, Lưới tổng hợp', 'Microfiber', 'Vải lưới', 'Textile/Suede', 'Da tổng hợp, Tổng hợp', 'Synthetics Upper', 'Leather 52,5%, Textile 47,5%', 'Da/Vải', 'TPU, Vải dệt', 'Lưới tổng hợp, Da tổng hợp', 'Leather Upper', '56.2% Da 43.8 % vải', 'EVA', 'Chất liệu tái chế', 'Vải dệt, Tổng hợp', 'Lưới tổng hợp', 'Vải Canvas', 'Lưới tổng hợp, Polyester', 'Tổng hợp, Da tổng hợp', 'Tổng hợp, Vải dệt', 'Nylon', 'Canvas 10oz', 'Suede', 'TPU', '100% PVC', 'PU', 'Textile', 'Polyester, Nylon', 'Da lộn, Tổng hợp', '100% Cotton', 'Textile/Rubber Plastic', 'Vải dệt', 'Da tổng hợp, Polyester', 'Sợi gai dầu (hemp), Cotton', 'Da tổng hợp, Lưới tổng hợp', 'Cotton', 'Vải', 'Polyester Canvas', 'Vải Knit', 'Da lộn, Lưới tổng hợp', 'Suede/Canvas', '100% Textile', '83.2% Textile; 16.8% Leather', 'Canvas/Suede', 'Vải + Da Lộn']\n",
      "123\n",
      "2713\n"
     ]
    }
   ],
   "source": [
    "print(get_distinct_value(data_list)['material'])\n",
    "print(len(get_distinct_value(data_list)['material']))\n",
    "\n",
    "print(len([obj for obj in data_list if obj.get('material') is not None]))"
   ]
  },
  {
   "cell_type": "code",
   "execution_count": 39,
   "metadata": {},
   "outputs": [],
   "source": [
    "distinct_materials = [\n",
    "    'Vải dệt', 'Lưới tổng hợp', 'Da tổng hợp', 'Moleskin n Cotton', 'EVA', \n",
    "    'Nylon', 'Lông nhân tạo', 'Cao su', 'Vải', \n",
    "    'Synthetic', 'Da', 'PVC', 'Sợi gai dầu', 'Organic Cotton', \n",
    "    'Canvas', 'Suede', 'Textile', 'Da lộn', \n",
    "    'Vải Knit', 'Microfiber', 'Nubuck', 'Recycled Cotton', 'TPU', 'Polyester', \n",
    "    'Vải lưới', 'Tổng hợp',\n",
    "]\n",
    "\n",
    "# Process material attribute\n",
    "for obj in data_list:\n",
    "    if obj['material'] is None: \n",
    "        continue\n",
    "\n",
    "    materials_found = []\n",
    "    for material in distinct_materials:\n",
    "        if material.lower() in obj['material'].lower(): \n",
    "            materials_found.append(material)\n",
    "\n",
    "\n",
    "    obj['material'] = \"/\".join(materials_found) if materials_found else None"
   ]
  },
  {
   "cell_type": "code",
   "execution_count": 40,
   "metadata": {},
   "outputs": [
    {
     "name": "stdout",
     "output_type": "stream",
     "text": [
      "['Vải/Vải lưới', 'Vải/Vải Knit', 'Cao su/Canvas', 'Vải dệt/Vải/TPU', 'Vải dệt/Vải/Da/Da lộn', 'Suede/Textile', 'Vải dệt/Lưới tổng hợp/Vải/Tổng hợp', 'Da tổng hợp/Cao su/Da/Tổng hợp', 'Vải/Da/Canvas/Da lộn', 'Vải/Canvas', 'Nylon', 'Nylon/Polyester', 'Suede', 'Da tổng hợp/Da/Polyester/Tổng hợp', 'Tổng hợp', 'Lưới tổng hợp/Da tổng hợp/Da/Da lộn/Tổng hợp', 'Da', 'TPU', 'Da tổng hợp/Da/Tổng hợp', 'Textile', 'Vải dệt/Da tổng hợp/Vải/Da/Tổng hợp', 'Vải/Da', 'PVC', 'Da/Da lộn/Tổng hợp', 'Nylon/Da', 'Da tổng hợp/Da/Da lộn/Tổng hợp', 'Organic Cotton', 'Synthetic', 'Polyester/Tổng hợp', 'Cao su/Tổng hợp', 'Lưới tổng hợp/Tổng hợp', 'Microfiber', 'Canvas', 'Canvas/Polyester', None, 'Moleskin n Cotton/Polyester', 'Lưới tổng hợp/Polyester/Tổng hợp', 'Vải dệt/Cao su/Vải', 'Vải', 'Lưới tổng hợp/Da/Da lộn/Tổng hợp', 'Lông nhân tạo', 'Recycled Cotton', 'Vải dệt/Vải/Tổng hợp', 'Lưới tổng hợp/Da tổng hợp/Da/Tổng hợp', 'Vải dệt/Lưới tổng hợp/Vải/Da/Da lộn/Tổng hợp', 'Polyester', 'Nubuck/Polyester', 'Vải dệt/Vải', 'EVA', 'Vải/Da/Da lộn', 'Cao su', 'Lưới tổng hợp/Vải/Tổng hợp', 'Sợi gai dầu', 'Canvas/Suede', 'Synthetic/Da', 'Da/Da lộn']\n",
      "56\n",
      "1909\n"
     ]
    }
   ],
   "source": [
    "print(get_distinct_value(data_list)['material'])\n",
    "print(len(get_distinct_value(data_list)['material']))\n",
    "\n",
    "\n",
    "valid_materials_count = len([obj for obj in data_list if obj.get('material') is not None])\n",
    "print(valid_materials_count)"
   ]
  },
  {
   "cell_type": "markdown",
   "metadata": {},
   "source": [
    "# Lining"
   ]
  },
  {
   "cell_type": "code",
   "execution_count": 41,
   "metadata": {},
   "outputs": [
    {
     "name": "stdout",
     "output_type": "stream",
     "text": [
      "['', 'Lưới tổng hợp, Vải', 'Da lộn', 'Da lộn, Lưới tổng hợp, Vải dệt', 'Tổng hợp, Da lộn', 'Tổng hợp, Da tổng hợp', 'Da tổng hợp, Da lộn', 'PET, Canvas', 'Tổng hợp, Vải dệt', 'Da lộn, Lưới tổng hợp, Tổng hợp', 'Nubuck, Polyester', 'Canvas, Cao su', 'Xốp mềm', 'Tổng hợp', 'Da', 'Da tổng hợp, Cao su', 'chất liệu tổng hợp', 'TPU', 'Vải dệt, Cao su', 'Da tổng hợp, Vải dệt, Tổng hợp', 'vải dệt và chất liệu tổng hợp', 'Polyester, Nylon', 'Da lộn, Tổng hợp', 'Polyester, Lưới tổng hợp', 'Nhựa Croslite', 'Da tổng hợp, Vải dệt', 'vải dệt và lót giày', 'Polyester, Tổng hợp', 'Polyethylene', 'vải dệt thoải mái', 'da và lót giày', 'Da lộn, Vải dệt', 'Tổng hợp, Lưới tổng hợp', 'Vải dệt, Tổng hợp', 'da', 'Lưới tổng hợp, Da lộn', 'Vải dệt', 'Da tổng hợp, Tổng hợp, Vải dệt', 'Tổng hợp, Cao su', 'Da tổng hợp, Polyester', 'Microfiber', 'Vải lưới', 'Recycled Polyester', 'Da tổng hợp, Tổng hợp', 'Sợi gai dầu (hemp), Cotton', None, 'Lưới tổng hợp, Polyester', 'Da tổng hợp, Lưới tổng hợp', 'Vải', 'Vải', 'Lông nhân tạo', 'TPU, Vải dệt', 'Da tổng hợp, Da lộn, Lưới tổng hợp', 'Lưới tổng hợp, Vải dệt', 'Lưới tổng hợp, Da tổng hợp', 'Da lộn, Lưới tổng hợp', 'vải dệt terry', 'vải dệt', 'da tổng hợp', 'EVA', 'Polyester', 'Da tổng hợp', 'Lưới tổng hợp, Tổng hợp', 'OrthoLite', 'Cao su', 'Vải dệt, Lưới tổng hợp', 'mút foam mềm mại', 'Chất liệu tái chế', 'vải terry', 'Lưới tổng hợp', 'Vải Canvas']\n",
      "71\n",
      "2240\n"
     ]
    }
   ],
   "source": [
    "print(get_distinct_value(data_list)['lining'])\n",
    "print(len(get_distinct_value(data_list)['lining']))\n",
    "\n",
    "print(len([obj for obj in data_list if obj.get('lining') is not None]))"
   ]
  },
  {
   "cell_type": "code",
   "execution_count": 42,
   "metadata": {},
   "outputs": [],
   "source": [
    "distinct_lining = ['Vải dệt', 'Lưới tổng hợp', 'Da tổng hợp', 'Nubuck',\n",
    "    'Polyester', 'Vải', 'EVA', 'Lông nhân tạo','Cao su',\n",
    "    'Recycled Polyester', 'Microfiber', 'Canvas', 'TPU', 'OrthoLite',\n",
    "    'Nhựa Croslite', 'Xốp mềm', 'Sợi gai dầu', 'Cotton', 'Da',\n",
    "    'Da lộn', 'Tổng hợp', 'PET', 'Polyethylene'\n",
    "]"
   ]
  },
  {
   "cell_type": "code",
   "execution_count": 43,
   "metadata": {},
   "outputs": [
    {
     "name": "stdout",
     "output_type": "stream",
     "text": [
      "2240\n"
     ]
    }
   ],
   "source": [
    "cnt = 0\n",
    "for obj in data_list:\n",
    "    if obj['lining'] is None: \n",
    "        continue\n",
    "    cnt += 1\n",
    "    lining_found = []\n",
    " \n",
    "    for lining in distinct_lining:\n",
    "        check = False\n",
    "\n",
    "        if lining.lower() in obj['lining'].lower():\n",
    "            lining_found.append(lining)\n",
    "\n",
    "\n",
    "    obj['lining'] = \"/\".join(lining_found) if lining_found else None\n",
    "print(cnt)"
   ]
  },
  {
   "cell_type": "code",
   "execution_count": 44,
   "metadata": {},
   "outputs": [
    {
     "name": "stdout",
     "output_type": "stream",
     "text": [
      "['Cao su/Canvas', 'Vải dệt/Vải/TPU', 'Vải dệt/Vải/Da/Da lộn', 'Vải dệt/Lưới tổng hợp/Vải/Tổng hợp', 'Da tổng hợp/Cao su/Da/Tổng hợp', 'Vải dệt/Vải/Cao su', 'Xốp mềm', 'Da tổng hợp/Polyester/Da/Tổng hợp', 'Tổng hợp', 'Lưới tổng hợp/Da tổng hợp/Da/Da lộn/Tổng hợp', 'Da', 'TPU', 'Da tổng hợp/Da/Tổng hợp', 'Vải dệt/Da tổng hợp/Vải/Da/Tổng hợp', 'Da/Da lộn/Tổng hợp', 'Nhựa Croslite', 'Da tổng hợp/Da/Da lộn/Tổng hợp', 'Polyester/Tổng hợp', 'Cao su/Tổng hợp', 'Lưới tổng hợp/Tổng hợp', 'Microfiber', 'Canvas', None, 'Canvas/PET', 'Sợi gai dầu/Cotton', 'Lưới tổng hợp/Polyester/Tổng hợp', 'Vải', 'Lưới tổng hợp/Da/Da lộn/Tổng hợp', 'Lông nhân tạo', 'Lưới tổng hợp/Da tổng hợp/Da/Tổng hợp', 'Vải dệt/Vải/Tổng hợp', 'Vải dệt/Lưới tổng hợp/Vải/Da/Da lộn/Tổng hợp', 'Polyester/Recycled Polyester', 'Polyester', 'Nubuck/Polyester', 'Vải dệt/Vải', 'EVA', 'OrthoLite', 'Cao su', 'Lưới tổng hợp/Vải/Tổng hợp', 'Polyethylene', 'Da/Da lộn']\n",
      "42\n",
      "1771\n"
     ]
    }
   ],
   "source": [
    "print(get_distinct_value(data_list)['lining'])\n",
    "print(len(get_distinct_value(data_list)['lining']))\n"
   ]
  },
  {
   "cell_type": "code",
   "execution_count": 45,
   "metadata": {},
   "outputs": [
    {
     "name": "stdout",
     "output_type": "stream",
     "text": [
      "Save\n"
     ]
    }
   ],
   "source": [
    "with open('./data_clean/processed_shoes_data.json', 'w', encoding='utf-8') as outfile:\n",
    "    json.dump(data_list, outfile, ensure_ascii=False, indent=4)\n",
    "\n",
    "print(\"Save\")"
   ]
  }
 ],
 "metadata": {
  "kernelspec": {
   "display_name": "Python 3",
   "language": "python",
   "name": "python3"
  },
  "language_info": {
   "codemirror_mode": {
    "name": "ipython",
    "version": 3
   },
   "file_extension": ".py",
   "mimetype": "text/x-python",
   "name": "python",
   "nbconvert_exporter": "python",
   "pygments_lexer": "ipython3",
   "version": "3.11.4"
  }
 },
 "nbformat": 4,
 "nbformat_minor": 2
}
